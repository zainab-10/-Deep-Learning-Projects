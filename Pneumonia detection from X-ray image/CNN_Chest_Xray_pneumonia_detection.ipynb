{
  "cells": [
    {
      "cell_type": "code",
      "execution_count": 41,
      "metadata": {
        "id": "ZgluL_lMIdBT"
      },
      "outputs": [],
      "source": [
        "from tensorflow.keras.preprocessing.image import ImageDataGenerator\n",
        "from tensorflow.keras.preprocessing import image\n",
        "from tensorflow.keras.optimizers import RMSprop\n",
        "import tensorflow as tf\n",
        "import numpy as np\n",
        "import cv2\n",
        "import os\n",
        "import pandas as pd\n",
        "import matplotlib.pyplot as plt\n",
        "from tensorflow import keras\n",
        "from tensorflow.keras import layers,models\n",
        "from tensorflow.keras.preprocessing.image import ImageDataGenerator \n",
        "from tensorflow.keras.utils import to_categorical, plot_model\n",
        "from keras.layers import Dense, Dropout, Flatten, Conv2D, MaxPool2D"
      ]
    },
    {
      "cell_type": "code",
      "execution_count": 3,
      "metadata": {
        "colab": {
          "base_uri": "https://localhost:8080/"
        },
        "id": "1_R95iK__X_a",
        "outputId": "34d5f1ef-1ff1-4817-8f3b-6a99d232343a"
      },
      "outputs": [
        {
          "output_type": "stream",
          "name": "stdout",
          "text": [
            "Mounted at /content/drive\n"
          ]
        }
      ],
      "source": [
        "from google.colab import drive\n",
        "drive.mount('/content/drive')"
      ]
    },
    {
      "cell_type": "code",
      "execution_count": 42,
      "metadata": {
        "id": "Vne_hCEifLgZ"
      },
      "outputs": [],
      "source": [
        "train_path='/content/drive/My Drive/Colab Notebooks/ANN_CNN_chest_Xray_Pneumonia_detection/chest_xray/train'\n",
        "test_path='/content/drive/My Drive/Colab Notebooks/ANN_CNN_chest_Xray_Pneumonia_detection/chest_xray/test'"
      ]
    },
    {
      "cell_type": "code",
      "source": [
        "pip install pillow"
      ],
      "metadata": {
        "colab": {
          "base_uri": "https://localhost:8080/"
        },
        "id": "GZm3FH5Yk1i0",
        "outputId": "977ad94d-ef49-476b-adc3-47eb6c70c828"
      },
      "execution_count": 5,
      "outputs": [
        {
          "output_type": "stream",
          "name": "stdout",
          "text": [
            "Looking in indexes: https://pypi.org/simple, https://us-python.pkg.dev/colab-wheels/public/simple/\n",
            "Requirement already satisfied: pillow in /usr/local/lib/python3.7/dist-packages (7.1.2)\n"
          ]
        }
      ]
    },
    {
      "cell_type": "code",
      "source": [
        "# import required module\n",
        "from PIL import Image\n",
        "  \n",
        "# get image\n",
        "filepath = \"/content/drive/My Drive/Colab Notebooks/ANN_CNN_chest_Xray_Pneumonia_detection/chest_xray/test/NORMAL/IM-0001-0001.jpeg\"\n",
        "img = Image.open(filepath)"
      ],
      "metadata": {
        "id": "YOj8yoirk9EJ"
      },
      "execution_count": 6,
      "outputs": []
    },
    {
      "cell_type": "code",
      "source": [
        "# get width and height\n",
        "width = img.width\n",
        "height = img.height"
      ],
      "metadata": {
        "id": "lb3rcXpgk9G6"
      },
      "execution_count": 7,
      "outputs": []
    },
    {
      "cell_type": "code",
      "source": [
        "# display width and height\n",
        "print(\"The height of the image is: \", height)\n",
        "print(\"The width of the image is: \", width)"
      ],
      "metadata": {
        "colab": {
          "base_uri": "https://localhost:8080/"
        },
        "id": "XiFtE8t-lVvP",
        "outputId": "fdf9bd21-4f0d-4676-e208-61c1350705b0"
      },
      "execution_count": 8,
      "outputs": [
        {
          "output_type": "stream",
          "name": "stdout",
          "text": [
            "The height of the image is:  1317\n",
            "The width of the image is:  1857\n"
          ]
        }
      ]
    },
    {
      "cell_type": "code",
      "execution_count": 9,
      "metadata": {
        "id": "lbHTcslQl2_z"
      },
      "outputs": [],
      "source": [
        "import os"
      ]
    },
    {
      "cell_type": "code",
      "execution_count": 10,
      "metadata": {
        "colab": {
          "base_uri": "https://localhost:8080/"
        },
        "id": "YDdZxcGol9v0",
        "outputId": "01e1d315-6e98-40fb-9413-750650853236"
      },
      "outputs": [
        {
          "output_type": "stream",
          "name": "stdout",
          "text": [
            "['PNEUMONIA', 'NORMAL']\n"
          ]
        }
      ],
      "source": [
        "print(os.listdir(train_path))"
      ]
    },
    {
      "cell_type": "code",
      "source": [
        "print(os.listdir(test_path))"
      ],
      "metadata": {
        "colab": {
          "base_uri": "https://localhost:8080/"
        },
        "id": "vu916aHVQcty",
        "outputId": "cb78c68f-36e6-4c9b-da01-8210ffdd1834"
      },
      "execution_count": 11,
      "outputs": [
        {
          "output_type": "stream",
          "name": "stdout",
          "text": [
            "['NORMAL', 'PNEUMONIA']\n"
          ]
        }
      ]
    },
    {
      "cell_type": "code",
      "execution_count": 48,
      "metadata": {
        "id": "21Rq-eg-mLdw"
      },
      "outputs": [],
      "source": [
        "# Initialize image data generator with rescaling\n",
        "train_data_gen = ImageDataGenerator(rescale=1./255,validation_split=0.25)\n",
        "test_data_gen = ImageDataGenerator(rescale=1./255)"
      ]
    },
    {
      "cell_type": "code",
      "execution_count": 52,
      "metadata": {
        "colab": {
          "base_uri": "https://localhost:8080/"
        },
        "id": "mlVhP3k5mfb9",
        "outputId": "967d4263-8eba-4a9c-fb53-a6782c3082ef"
      },
      "outputs": [
        {
          "output_type": "stream",
          "name": "stdout",
          "text": [
            "Found 3913 images belonging to 2 classes.\n"
          ]
        }
      ],
      "source": [
        "# Preprocess all train images\n",
        "train_generator = train_data_gen.flow_from_directory(\n",
        "        '/content/drive/My Drive/Colab Notebooks/ANN_CNN_chest_Xray_Pneumonia_detection/chest_xray/train',\n",
        "        target_size=(48, 48),\n",
        "        batch_size=32,\n",
        "        color_mode=\"grayscale\",\n",
        "        class_mode='categorical',\n",
        "        subset='training')"
      ]
    },
    {
      "cell_type": "code",
      "source": [
        "# Preprocess all test images\n",
        "test_generator = train_data_gen.flow_from_directory(\n",
        "        '/content/drive/My Drive/Colab Notebooks/ANN_CNN_chest_Xray_Pneumonia_detection/chest_xray/train',\n",
        "        target_size=(48, 48),\n",
        "        batch_size=32,\n",
        "        color_mode=\"grayscale\",\n",
        "        class_mode='categorical',\n",
        "        subset='validation')"
      ],
      "metadata": {
        "colab": {
          "base_uri": "https://localhost:8080/"
        },
        "id": "cK6w63UWQ2GG",
        "outputId": "6ad1b904-7297-45d3-8273-a059069db3fd"
      },
      "execution_count": 53,
      "outputs": [
        {
          "output_type": "stream",
          "name": "stdout",
          "text": [
            "Found 1303 images belonging to 2 classes.\n"
          ]
        }
      ]
    },
    {
      "cell_type": "code",
      "execution_count": 54,
      "metadata": {
        "id": "xqc5p-sJvDme"
      },
      "outputs": [],
      "source": [
        "# create model structure\n",
        "from keras.models import Sequential\n",
        "pheumonia_detection_model = Sequential()"
      ]
    },
    {
      "cell_type": "code",
      "source": [
        "from keras.layers import Conv2D, MaxPooling2D, Dense, Dropout, Flatten\n",
        "pheumonia_detection_model.add(Conv2D(32, kernel_size=(3, 3), activation='relu', input_shape=(48, 48, 1)))\n",
        "pheumonia_detection_model.add(Conv2D(64, kernel_size=(3, 3), activation='relu'))\n",
        "pheumonia_detection_model.add(Conv2D(128, kernel_size=(3, 3), activation='relu'))\n",
        "pheumonia_detection_model.add(MaxPooling2D(pool_size=(3, 3)))\n",
        "pheumonia_detection_model.add(Dropout(0.35))"
      ],
      "metadata": {
        "id": "HQGQvvk2GjoF"
      },
      "execution_count": 55,
      "outputs": []
    },
    {
      "cell_type": "code",
      "source": [
        "pheumonia_detection_model.add(Conv2D(256, kernel_size=(3, 3), activation='relu'))\n",
        "pheumonia_detection_model.add(MaxPooling2D(pool_size=(3, 3)))\n",
        "pheumonia_detection_model.add(Dropout(0.35))\n",
        "pheumonia_detection_model.add(Conv2D(256, kernel_size=(3, 3), activation='relu'))\n",
        "pheumonia_detection_model.add(MaxPooling2D(pool_size=(2, 2)))\n",
        "pheumonia_detection_model.add(Dropout(0.35))"
      ],
      "metadata": {
        "id": "AkpIIwMQGuFi"
      },
      "execution_count": 56,
      "outputs": []
    },
    {
      "cell_type": "code",
      "source": [
        "pheumonia_detection_model.add(Flatten())\n",
        "pheumonia_detection_model.add(Dense(1024, activation='relu'))\n",
        "pheumonia_detection_model.add(Dropout(0.35))\n",
        "pheumonia_detection_model.add(Dense(2, activation='softmax'))"
      ],
      "metadata": {
        "id": "RZUZbnedHAwY"
      },
      "execution_count": 57,
      "outputs": []
    },
    {
      "cell_type": "code",
      "source": [
        "pheumonia_detection_model.summary()"
      ],
      "metadata": {
        "colab": {
          "base_uri": "https://localhost:8080/"
        },
        "id": "RgTdduHQIIO_",
        "outputId": "ed3eb18f-5f02-4871-fb9f-35a10405b205"
      },
      "execution_count": 58,
      "outputs": [
        {
          "output_type": "stream",
          "name": "stdout",
          "text": [
            "Model: \"sequential_3\"\n",
            "_________________________________________________________________\n",
            " Layer (type)                Output Shape              Param #   \n",
            "=================================================================\n",
            " conv2d_17 (Conv2D)          (None, 46, 46, 32)        320       \n",
            "                                                                 \n",
            " conv2d_18 (Conv2D)          (None, 44, 44, 64)        18496     \n",
            "                                                                 \n",
            " conv2d_19 (Conv2D)          (None, 42, 42, 128)       73856     \n",
            "                                                                 \n",
            " max_pooling2d_9 (MaxPooling  (None, 14, 14, 128)      0         \n",
            " 2D)                                                             \n",
            "                                                                 \n",
            " dropout_9 (Dropout)         (None, 14, 14, 128)       0         \n",
            "                                                                 \n",
            " conv2d_20 (Conv2D)          (None, 12, 12, 256)       295168    \n",
            "                                                                 \n",
            " max_pooling2d_10 (MaxPoolin  (None, 4, 4, 256)        0         \n",
            " g2D)                                                            \n",
            "                                                                 \n",
            " dropout_10 (Dropout)        (None, 4, 4, 256)         0         \n",
            "                                                                 \n",
            " conv2d_21 (Conv2D)          (None, 2, 2, 256)         590080    \n",
            "                                                                 \n",
            " max_pooling2d_11 (MaxPoolin  (None, 1, 1, 256)        0         \n",
            " g2D)                                                            \n",
            "                                                                 \n",
            " dropout_11 (Dropout)        (None, 1, 1, 256)         0         \n",
            "                                                                 \n",
            " flatten_2 (Flatten)         (None, 256)               0         \n",
            "                                                                 \n",
            " dense_4 (Dense)             (None, 1024)              263168    \n",
            "                                                                 \n",
            " dropout_12 (Dropout)        (None, 1024)              0         \n",
            "                                                                 \n",
            " dense_5 (Dense)             (None, 2)                 2050      \n",
            "                                                                 \n",
            "=================================================================\n",
            "Total params: 1,243,138\n",
            "Trainable params: 1,243,138\n",
            "Non-trainable params: 0\n",
            "_________________________________________________________________\n"
          ]
        }
      ]
    },
    {
      "cell_type": "code",
      "execution_count": 59,
      "metadata": {
        "id": "8DZ0Fro7vk-t"
      },
      "outputs": [],
      "source": [
        "import cv2\n",
        "cv2.ocl.setUseOpenCL(False)"
      ]
    },
    {
      "cell_type": "code",
      "execution_count": 60,
      "metadata": {
        "id": "IYPOYgMV0fPR"
      },
      "outputs": [],
      "source": [
        "from tensorflow.keras.optimizers import Adam"
      ]
    },
    {
      "cell_type": "code",
      "execution_count": 61,
      "metadata": {
        "id": "p6PItMIIxG2M",
        "colab": {
          "base_uri": "https://localhost:8080/"
        },
        "outputId": "63aa0173-d321-49a9-c45c-61b2deb27b16"
      },
      "outputs": [
        {
          "output_type": "stream",
          "name": "stderr",
          "text": [
            "/usr/local/lib/python3.7/dist-packages/keras/optimizers/optimizer_v2/adam.py:110: UserWarning: The `lr` argument is deprecated, use `learning_rate` instead.\n",
            "  super(Adam, self).__init__(name, **kwargs)\n"
          ]
        }
      ],
      "source": [
        "pheumonia_detection_model.compile(loss='categorical_crossentropy', optimizer=Adam(lr=0.001), metrics=['accuracy'])"
      ]
    },
    {
      "cell_type": "code",
      "source": [
        "# Train the neural network/model\n",
        "pheumonia_model_info = pheumonia_detection_model.fit(\n",
        "        train_generator,\n",
        "        steps_per_epoch=5216 // 64,\n",
        "        epochs=20,\n",
        "        validation_data=test_generator,\n",
        "        validation_steps=624 // 64)"
      ],
      "metadata": {
        "colab": {
          "base_uri": "https://localhost:8080/"
        },
        "id": "b_FAOWlmbcNB",
        "outputId": "4fbf5d36-5f42-45fa-872e-4bbd212ba719"
      },
      "execution_count": 62,
      "outputs": [
        {
          "output_type": "stream",
          "name": "stdout",
          "text": [
            "Epoch 1/20\n",
            "81/81 [==============================] - 81s 991ms/step - loss: 0.5773 - accuracy: 0.7408 - val_loss: 0.5516 - val_accuracy: 0.7222\n",
            "Epoch 2/20\n",
            "81/81 [==============================] - 78s 958ms/step - loss: 0.3936 - accuracy: 0.8187 - val_loss: 0.3416 - val_accuracy: 0.8368\n",
            "Epoch 3/20\n",
            "81/81 [==============================] - 75s 927ms/step - loss: 0.2550 - accuracy: 0.8949 - val_loss: 0.3140 - val_accuracy: 0.8681\n",
            "Epoch 4/20\n",
            "81/81 [==============================] - 77s 949ms/step - loss: 0.1759 - accuracy: 0.9309 - val_loss: 0.1978 - val_accuracy: 0.9271\n",
            "Epoch 5/20\n",
            "81/81 [==============================] - 75s 925ms/step - loss: 0.1359 - accuracy: 0.9475 - val_loss: 0.3297 - val_accuracy: 0.8576\n",
            "Epoch 6/20\n",
            "81/81 [==============================] - 78s 959ms/step - loss: 0.1215 - accuracy: 0.9514 - val_loss: 0.1566 - val_accuracy: 0.9410\n",
            "Epoch 7/20\n",
            "81/81 [==============================] - 77s 952ms/step - loss: 0.0995 - accuracy: 0.9599 - val_loss: 0.1040 - val_accuracy: 0.9688\n",
            "Epoch 8/20\n",
            "81/81 [==============================] - 77s 950ms/step - loss: 0.1078 - accuracy: 0.9622 - val_loss: 0.2284 - val_accuracy: 0.9167\n",
            "Epoch 9/20\n",
            "81/81 [==============================] - 77s 944ms/step - loss: 0.0975 - accuracy: 0.9607 - val_loss: 0.1249 - val_accuracy: 0.9514\n",
            "Epoch 10/20\n",
            "81/81 [==============================] - 75s 920ms/step - loss: 0.0933 - accuracy: 0.9661 - val_loss: 0.0931 - val_accuracy: 0.9688\n",
            "Epoch 11/20\n",
            "81/81 [==============================] - 77s 952ms/step - loss: 0.0883 - accuracy: 0.9672 - val_loss: 0.1735 - val_accuracy: 0.9375\n",
            "Epoch 12/20\n",
            "81/81 [==============================] - 77s 945ms/step - loss: 0.0836 - accuracy: 0.9661 - val_loss: 0.2702 - val_accuracy: 0.9097\n",
            "Epoch 13/20\n",
            "81/81 [==============================] - 77s 952ms/step - loss: 0.0637 - accuracy: 0.9755 - val_loss: 0.0810 - val_accuracy: 0.9618\n",
            "Epoch 14/20\n",
            "81/81 [==============================] - 76s 937ms/step - loss: 0.0870 - accuracy: 0.9657 - val_loss: 0.1231 - val_accuracy: 0.9479\n",
            "Epoch 15/20\n",
            "81/81 [==============================] - 76s 938ms/step - loss: 0.0602 - accuracy: 0.9794 - val_loss: 0.2775 - val_accuracy: 0.9097\n",
            "Epoch 16/20\n",
            "81/81 [==============================] - 77s 939ms/step - loss: 0.0794 - accuracy: 0.9720 - val_loss: 0.1140 - val_accuracy: 0.9792\n",
            "Epoch 17/20\n",
            "81/81 [==============================] - 77s 946ms/step - loss: 0.0595 - accuracy: 0.9811 - val_loss: 0.1379 - val_accuracy: 0.9583\n",
            "Epoch 18/20\n",
            "81/81 [==============================] - 78s 956ms/step - loss: 0.0602 - accuracy: 0.9803 - val_loss: 0.1020 - val_accuracy: 0.9479\n",
            "Epoch 19/20\n",
            "81/81 [==============================] - 76s 938ms/step - loss: 0.0714 - accuracy: 0.9708 - val_loss: 0.1161 - val_accuracy: 0.9549\n",
            "Epoch 20/20\n",
            "81/81 [==============================] - 76s 939ms/step - loss: 0.0539 - accuracy: 0.9794 - val_loss: 0.1136 - val_accuracy: 0.9757\n"
          ]
        }
      ]
    },
    {
      "cell_type": "code",
      "source": [],
      "metadata": {
        "id": "uOyFov3WWKL8"
      },
      "execution_count": 26,
      "outputs": []
    }
  ],
  "metadata": {
    "colab": {
      "collapsed_sections": [],
      "provenance": []
    },
    "kernelspec": {
      "display_name": "Python 3",
      "name": "python3"
    },
    "language_info": {
      "name": "python"
    },
    "accelerator": "GPU",
    "gpuClass": "standard"
  },
  "nbformat": 4,
  "nbformat_minor": 0
}