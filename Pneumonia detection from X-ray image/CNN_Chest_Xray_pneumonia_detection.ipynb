{
  "cells": [
    {
      "cell_type": "code",
      "execution_count": null,
      "metadata": {
        "id": "ZgluL_lMIdBT"
      },
      "outputs": [],
      "source": [
        "from tensorflow.keras.preprocessing.image import ImageDataGenerator\n",
        "from tensorflow.keras.preprocessing import image\n",
        "from tensorflow.keras.optimizers import RMSprop\n",
        "import tensorflow as tf\n",
        "import numpy as np\n",
        "import cv2\n",
        "import os\n",
        "import pandas as pd\n",
        "import matplotlib.pyplot as plt\n",
        "from tensorflow import keras\n",
        "from tensorflow.keras import layers,models\n",
        "from tensorflow.keras.preprocessing.image import ImageDataGenerator \n",
        "from tensorflow.keras.utils import to_categorical, plot_model\n",
        "from keras.layers import Dense, Dropout, Flatten, Conv2D, MaxPool2D"
      ]
    },
    {
      "cell_type": "code",
      "execution_count": null,
      "metadata": {
        "colab": {
          "base_uri": "https://localhost:8080/"
        },
        "id": "1_R95iK__X_a",
        "outputId": "a10295d9-816c-4d39-eb03-6c51c545ada7"
      },
      "outputs": [
        {
          "output_type": "stream",
          "name": "stdout",
          "text": [
            "Drive already mounted at /content/drive; to attempt to forcibly remount, call drive.mount(\"/content/drive\", force_remount=True).\n"
          ]
        }
      ],
      "source": [
        "from google.colab import drive\n",
        "drive.mount('/content/drive')"
      ]
    },
    {
      "cell_type": "code",
      "execution_count": null,
      "metadata": {
        "id": "Vne_hCEifLgZ"
      },
      "outputs": [],
      "source": [
        "train_path='/content/drive/My Drive/Colab Notebooks/ANN_CNN_chest_Xray_Pneumonia_detection/chest_xray/train'\n",
        "test_path='/content/drive/My Drive/Colab Notebooks/ANN_CNN_chest_Xray_Pneumonia_detection/chest_xray/test'"
      ]
    },
    {
      "cell_type": "code",
      "execution_count": null,
      "metadata": {
        "id": "lbHTcslQl2_z"
      },
      "outputs": [],
      "source": [
        "import os"
      ]
    },
    {
      "cell_type": "code",
      "execution_count": null,
      "metadata": {
        "colab": {
          "base_uri": "https://localhost:8080/"
        },
        "id": "YDdZxcGol9v0",
        "outputId": "54ae68f1-0c88-4a70-8d07-802c862d9c63"
      },
      "outputs": [
        {
          "output_type": "stream",
          "name": "stdout",
          "text": [
            "['PNEUMONIA', 'NORMAL']\n"
          ]
        }
      ],
      "source": [
        "print(os.listdir(train_path))"
      ]
    },
    {
      "cell_type": "code",
      "source": [
        "print(os.listdir(test_path))"
      ],
      "metadata": {
        "colab": {
          "base_uri": "https://localhost:8080/"
        },
        "id": "vu916aHVQcty",
        "outputId": "7d44b0ff-3fe8-4e5c-81a4-b583c01c22d9"
      },
      "execution_count": null,
      "outputs": [
        {
          "output_type": "stream",
          "name": "stdout",
          "text": [
            "['NORMAL', 'PNEUMONIA']\n"
          ]
        }
      ]
    },
    {
      "cell_type": "code",
      "execution_count": null,
      "metadata": {
        "id": "21Rq-eg-mLdw"
      },
      "outputs": [],
      "source": [
        "# Initialize image data generator with rescaling\n",
        "train_data_gen = ImageDataGenerator(rescale=1./255)\n",
        "test_data_gen = ImageDataGenerator(rescale=1./255)"
      ]
    },
    {
      "cell_type": "code",
      "execution_count": null,
      "metadata": {
        "colab": {
          "base_uri": "https://localhost:8080/"
        },
        "id": "mlVhP3k5mfb9",
        "outputId": "18c6a824-5871-423e-a3a6-6849482cd43e"
      },
      "outputs": [
        {
          "output_type": "stream",
          "name": "stdout",
          "text": [
            "Found 5216 images belonging to 2 classes.\n"
          ]
        }
      ],
      "source": [
        "# Preprocess all train images\n",
        "train_generator = train_data_gen.flow_from_directory(\n",
        "        '/content/drive/My Drive/Colab Notebooks/ANN_CNN_chest_Xray_Pneumonia_detection/chest_xray/train',\n",
        "        target_size=(48, 48),\n",
        "        batch_size=32,\n",
        "        color_mode=\"grayscale\",\n",
        "        class_mode='categorical')"
      ]
    },
    {
      "cell_type": "code",
      "source": [
        "# Preprocess all test images\n",
        "test_generator = test_data_gen.flow_from_directory(\n",
        "        '/content/drive/My Drive/Colab Notebooks/ANN_CNN_chest_Xray_Pneumonia_detection/chest_xray/test',\n",
        "        target_size=(48, 48),\n",
        "        batch_size=32,\n",
        "        color_mode=\"grayscale\",\n",
        "        class_mode='categorical')"
      ],
      "metadata": {
        "colab": {
          "base_uri": "https://localhost:8080/"
        },
        "id": "cK6w63UWQ2GG",
        "outputId": "7502a870-524f-4867-b6a9-22b80c220e30"
      },
      "execution_count": null,
      "outputs": [
        {
          "output_type": "stream",
          "name": "stdout",
          "text": [
            "Found 624 images belonging to 2 classes.\n"
          ]
        }
      ]
    },
    {
      "cell_type": "code",
      "execution_count": null,
      "metadata": {
        "id": "xqc5p-sJvDme"
      },
      "outputs": [],
      "source": [
        "# create model structure\n",
        "from keras.models import Sequential\n",
        "pheumonia_detection_model = Sequential()"
      ]
    },
    {
      "cell_type": "code",
      "source": [
        "from keras.layers import Conv2D, MaxPooling2D, Dense, Dropout, Flatten\n",
        "pheumonia_detection_model.add(Conv2D(32, kernel_size=(3, 3), activation='relu', input_shape=(48, 48, 1)))\n",
        "pheumonia_detection_model.add(Conv2D(64, kernel_size=(3, 3), activation='relu'))\n",
        "pheumonia_detection_model.add(MaxPooling2D(pool_size=(3, 3)))\n",
        "pheumonia_detection_model.add(Dropout(0.25))"
      ],
      "metadata": {
        "id": "HQGQvvk2GjoF"
      },
      "execution_count": null,
      "outputs": []
    },
    {
      "cell_type": "code",
      "source": [
        "pheumonia_detection_model.add(Conv2D(128, kernel_size=(3, 3), activation='relu'))\n",
        "pheumonia_detection_model.add(MaxPooling2D(pool_size=(3, 3)))\n",
        "pheumonia_detection_model.add(Conv2D(128, kernel_size=(3, 3), activation='relu'))\n",
        "pheumonia_detection_model.add(MaxPooling2D(pool_size=(2, 2)))\n",
        "pheumonia_detection_model.add(Dropout(0.25))"
      ],
      "metadata": {
        "id": "AkpIIwMQGuFi"
      },
      "execution_count": null,
      "outputs": []
    },
    {
      "cell_type": "code",
      "source": [
        "pheumonia_detection_model.add(Flatten())\n",
        "pheumonia_detection_model.add(Dense(1024, activation='relu'))\n",
        "pheumonia_detection_model.add(Dropout(0.5))\n",
        "pheumonia_detection_model.add(Dense(2, activation='softmax'))"
      ],
      "metadata": {
        "id": "RZUZbnedHAwY"
      },
      "execution_count": null,
      "outputs": []
    },
    {
      "cell_type": "code",
      "source": [
        "pheumonia_detection_model.summary()"
      ],
      "metadata": {
        "colab": {
          "base_uri": "https://localhost:8080/"
        },
        "id": "RgTdduHQIIO_",
        "outputId": "d0d0583c-0ff8-439f-ab60-ae8abcca1d79"
      },
      "execution_count": null,
      "outputs": [
        {
          "output_type": "stream",
          "name": "stdout",
          "text": [
            "Model: \"sequential\"\n",
            "_________________________________________________________________\n",
            " Layer (type)                Output Shape              Param #   \n",
            "=================================================================\n",
            " conv2d (Conv2D)             (None, 46, 46, 32)        320       \n",
            "                                                                 \n",
            " conv2d_1 (Conv2D)           (None, 44, 44, 64)        18496     \n",
            "                                                                 \n",
            " max_pooling2d (MaxPooling2D  (None, 14, 14, 64)       0         \n",
            " )                                                               \n",
            "                                                                 \n",
            " dropout (Dropout)           (None, 14, 14, 64)        0         \n",
            "                                                                 \n",
            " conv2d_2 (Conv2D)           (None, 12, 12, 128)       73856     \n",
            "                                                                 \n",
            " max_pooling2d_1 (MaxPooling  (None, 4, 4, 128)        0         \n",
            " 2D)                                                             \n",
            "                                                                 \n",
            " conv2d_3 (Conv2D)           (None, 2, 2, 128)         147584    \n",
            "                                                                 \n",
            " max_pooling2d_2 (MaxPooling  (None, 1, 1, 128)        0         \n",
            " 2D)                                                             \n",
            "                                                                 \n",
            " dropout_1 (Dropout)         (None, 1, 1, 128)         0         \n",
            "                                                                 \n",
            " flatten (Flatten)           (None, 128)               0         \n",
            "                                                                 \n",
            " dense (Dense)               (None, 1024)              132096    \n",
            "                                                                 \n",
            " dropout_2 (Dropout)         (None, 1024)              0         \n",
            "                                                                 \n",
            " dense_1 (Dense)             (None, 2)                 2050      \n",
            "                                                                 \n",
            "=================================================================\n",
            "Total params: 374,402\n",
            "Trainable params: 374,402\n",
            "Non-trainable params: 0\n",
            "_________________________________________________________________\n"
          ]
        }
      ]
    },
    {
      "cell_type": "code",
      "execution_count": null,
      "metadata": {
        "id": "8DZ0Fro7vk-t"
      },
      "outputs": [],
      "source": [
        "import cv2\n",
        "cv2.ocl.setUseOpenCL(False)"
      ]
    },
    {
      "cell_type": "code",
      "execution_count": null,
      "metadata": {
        "id": "IYPOYgMV0fPR"
      },
      "outputs": [],
      "source": [
        "from tensorflow.keras.optimizers import Adam"
      ]
    },
    {
      "cell_type": "code",
      "execution_count": null,
      "metadata": {
        "id": "p6PItMIIxG2M",
        "colab": {
          "base_uri": "https://localhost:8080/"
        },
        "outputId": "b98ecc1d-2848-4467-8c13-9188b2fee8a9"
      },
      "outputs": [
        {
          "output_type": "stream",
          "name": "stderr",
          "text": [
            "/usr/local/lib/python3.7/dist-packages/keras/optimizers/optimizer_v2/adam.py:110: UserWarning: The `lr` argument is deprecated, use `learning_rate` instead.\n",
            "  super(Adam, self).__init__(name, **kwargs)\n"
          ]
        }
      ],
      "source": [
        "pheumonia_detection_model.compile(loss='categorical_crossentropy', optimizer=Adam(lr=0.01), metrics=['accuracy'])"
      ]
    },
    {
      "cell_type": "code",
      "source": [
        "# Train the neural network/model\n",
        "pheumonia_model_info = pheumonia_detection_model.fit(\n",
        "        train_generator,\n",
        "        steps_per_epoch=5216 // 32,\n",
        "        epochs=5,\n",
        "        validation_data=test_generator,\n",
        "        validation_steps=624 // 32)"
      ],
      "metadata": {
        "colab": {
          "base_uri": "https://localhost:8080/"
        },
        "id": "NIGQ2LxvHoPF",
        "outputId": "4e6dfec6-89bf-434d-c073-1b19f94ee593"
      },
      "execution_count": null,
      "outputs": [
        {
          "output_type": "stream",
          "name": "stdout",
          "text": [
            "Epoch 1/5\n",
            "163/163 [==============================] - 1234s 7s/step - loss: 0.6346 - accuracy: 0.7419 - val_loss: 0.7483 - val_accuracy: 0.6283\n",
            "Epoch 2/5\n",
            "163/163 [==============================] - 56s 346ms/step - loss: 0.5737 - accuracy: 0.7429 - val_loss: 0.6851 - val_accuracy: 0.6217\n",
            "Epoch 3/5\n",
            "163/163 [==============================] - 56s 347ms/step - loss: 0.5731 - accuracy: 0.7429 - val_loss: 0.7154 - val_accuracy: 0.6217\n",
            "Epoch 4/5\n",
            "163/163 [==============================] - 57s 351ms/step - loss: 0.5728 - accuracy: 0.7429 - val_loss: 0.6883 - val_accuracy: 0.6201\n",
            "Epoch 5/5\n",
            "163/163 [==============================] - 56s 342ms/step - loss: 0.5726 - accuracy: 0.7429 - val_loss: 0.6818 - val_accuracy: 0.6250\n"
          ]
        }
      ]
    },
    {
      "cell_type": "code",
      "execution_count": null,
      "metadata": {
        "id": "vVk6BQVkju9w",
        "colab": {
          "base_uri": "https://localhost:8080/"
        },
        "outputId": "87ce4710-d13a-4c66-de1c-d0249aa7f022"
      },
      "outputs": [
        {
          "output_type": "execute_result",
          "data": {
            "text/plain": [
              "dict_keys(['loss', 'accuracy', 'val_loss', 'val_accuracy'])"
            ]
          },
          "metadata": {},
          "execution_count": 21
        }
      ],
      "source": [
        "import json\n",
        "pheumonia_model_info.history.keys()"
      ]
    },
    {
      "cell_type": "code",
      "execution_count": null,
      "metadata": {
        "id": "UuEtfl6cljF5",
        "colab": {
          "base_uri": "https://localhost:8080/",
          "height": 295
        },
        "outputId": "ba4a0d7d-b60d-4ffc-cf31-d3bef9eb3f23"
      },
      "outputs": [
        {
          "output_type": "display_data",
          "data": {
            "text/plain": [
              "<Figure size 432x288 with 1 Axes>"
            ],
            "image/png": "[encoded data removed]"
          },
          "metadata": {
            "needs_background": "light"
          }
        }
      ],
      "source": [
        "plt.plot(pheumonia_model_info.history['accuracy'])\n",
        "plt.plot(pheumonia_model_info.history['val_accuracy'])\n",
        "plt.title('model accuracy')\n",
        "plt.ylabel('accuracy')\n",
        "plt.xlabel('epoch')\n",
        "plt.legend(['train', 'test'], loc='upper left')\n",
        "plt.show()"
      ]
    },
    {
      "cell_type": "code",
      "execution_count": null,
      "metadata": {
        "id": "5EBclc-Elt8Y",
        "colab": {
          "base_uri": "https://localhost:8080/",
          "height": 295
        },
        "outputId": "51d4b68b-8763-4122-bd64-0945ff2694b3"
      },
      "outputs": [
        {
          "output_type": "display_data",
          "data": {
            "text/plain": [
              "<Figure size 432x288 with 1 Axes>"
            ],
            "image/png": "[encoded data removed]"
          },
          "metadata": {
            "needs_background": "light"
          }
        }
      ],
      "source": [
        "plt.plot(pheumonia_model_info.history['loss'])\n",
        "plt.plot(pheumonia_model_info.history['val_loss'])\n",
        "plt.title('Model Loss')\n",
        "plt.ylabel('loss')\n",
        "plt.xlabel('epoch')\n",
        "plt.legend(['train', 'test'], loc='upper left')\n",
        "plt.show()"
      ]
    },
    {
      "cell_type": "code",
      "source": [],
      "metadata": {
        "id": "uOyFov3WWKL8"
      },
      "execution_count": null,
      "outputs": []
    }
  ],
  "metadata": {
    "colab": {
      "collapsed_sections": [],
      "provenance": []
    },
    "kernelspec": {
      "display_name": "Python 3",
      "name": "python3"
    },
    "language_info": {
      "name": "python"
    },
    "accelerator": "GPU",
    "gpuClass": "standard"
  },
  "nbformat": 4,
  "nbformat_minor": 0
}