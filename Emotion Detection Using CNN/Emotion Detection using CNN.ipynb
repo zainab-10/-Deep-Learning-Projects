{
  "cells": [
    {
      "cell_type": "code",
      "execution_count": null,
      "metadata": {
        "id": "ZgluL_lMIdBT"
      },
      "outputs": [],
      "source": [
        "import numpy as np\n",
        "import pandas as pd\n",
        "import tensorflow as tf\n",
        "import matplotlib.pyplot as plt\n",
        "from tensorflow import keras\n",
        "from tensorflow.keras import layers,models\n",
        "from tensorflow.keras.preprocessing.image import ImageDataGenerator \n",
        "from tensorflow.keras.utils import to_categorical, plot_model\n",
        "from keras.layers import Dense, Dropout, Flatten, Conv2D, MaxPool2D"
      ]
    },
    {
      "cell_type": "code",
      "execution_count": null,
      "metadata": {
        "colab": {
          "base_uri": "https://localhost:8080/"
        },
        "id": "1_R95iK__X_a",
        "outputId": "ccc12e0c-a3fd-4872-ce68-c57a6d8b3cc4"
      },
      "outputs": [
        {
          "output_type": "stream",
          "name": "stdout",
          "text": [
            "Mounted at /content/drive\n"
          ]
        }
      ],
      "source": [
        "from google.colab import drive\n",
        "drive.mount('/content/drive')"
      ]
    },
    {
      "cell_type": "code",
      "execution_count": null,
      "metadata": {
        "id": "Vne_hCEifLgZ"
      },
      "outputs": [],
      "source": [
        "train_path='/content/drive/My Drive/Colab Notebooks/emotion_detection/archive/train'\n",
        "validate_path='/content/drive/My Drive/Colab Notebooks/emotion_detection/archive/test'"
      ]
    },
    {
      "cell_type": "code",
      "execution_count": null,
      "metadata": {
        "id": "lbHTcslQl2_z"
      },
      "outputs": [],
      "source": [
        "import os"
      ]
    },
    {
      "cell_type": "code",
      "execution_count": null,
      "metadata": {
        "colab": {
          "base_uri": "https://localhost:8080/"
        },
        "id": "YDdZxcGol9v0",
        "outputId": "99e6b3b8-5509-49c9-f8c0-e0d2360df24b"
      },
      "outputs": [
        {
          "output_type": "stream",
          "name": "stdout",
          "text": [
            "['disgust', 'fear', 'angry', 'surprise', 'sad', 'happy', 'neutral']\n"
          ]
        }
      ],
      "source": [
        "print(os.listdir(train_path))"
      ]
    },
    {
      "cell_type": "code",
      "execution_count": null,
      "metadata": {
        "colab": {
          "base_uri": "https://localhost:8080/"
        },
        "id": "VGasSPsYmD0M",
        "outputId": "0c1aedaf-fe75-4daf-e6bd-80ebbb84b942"
      },
      "outputs": [
        {
          "output_type": "stream",
          "name": "stdout",
          "text": [
            "['happy', 'surprise', 'fear', 'disgust', 'angry', 'sad', 'neutral']\n"
          ]
        }
      ],
      "source": [
        "print(os.listdir(validate_path))"
      ]
    },
    {
      "cell_type": "code",
      "execution_count": null,
      "metadata": {
        "id": "21Rq-eg-mLdw"
      },
      "outputs": [],
      "source": [
        "# Initialize image data generator with rescaling\n",
        "train_data_gen = ImageDataGenerator(rescale=1./255)\n",
        "validation_data_gen = ImageDataGenerator(rescale=1./255)"
      ]
    },
    {
      "cell_type": "code",
      "execution_count": null,
      "metadata": {
        "colab": {
          "base_uri": "https://localhost:8080/"
        },
        "id": "mlVhP3k5mfb9",
        "outputId": "f9d20040-a519-4b99-b514-e2c07b65b2b7"
      },
      "outputs": [
        {
          "output_type": "stream",
          "name": "stdout",
          "text": [
            "Found 28913 images belonging to 7 classes.\n"
          ]
        }
      ],
      "source": [
        "# Preprocess all test images\n",
        "train_generator = train_data_gen.flow_from_directory(\n",
        "        '/content/drive/My Drive/Colab Notebooks/emotion_detection/archive/train',\n",
        "        target_size=(48, 48),\n",
        "        batch_size=64,\n",
        "        color_mode=\"grayscale\",\n",
        "        class_mode='categorical')"
      ]
    },
    {
      "cell_type": "code",
      "execution_count": null,
      "metadata": {
        "colab": {
          "base_uri": "https://localhost:8080/"
        },
        "id": "3QkHgxHcs9iV",
        "outputId": "45ff502f-284f-4a1f-b4ff-b44a4a91b13f"
      },
      "outputs": [
        {
          "output_type": "stream",
          "name": "stdout",
          "text": [
            "Found 7222 images belonging to 7 classes.\n"
          ]
        }
      ],
      "source": [
        "# Preprocess all train images\n",
        "validation_generator = validation_data_gen.flow_from_directory(\n",
        "        '/content/drive/My Drive/Colab Notebooks/emotion_detection/archive/test',\n",
        "        target_size=(48, 48),\n",
        "        batch_size=64,\n",
        "        color_mode=\"grayscale\",\n",
        "        class_mode='categorical')"
      ]
    },
    {
      "cell_type": "code",
      "execution_count": null,
      "metadata": {
        "id": "xqc5p-sJvDme"
      },
      "outputs": [],
      "source": [
        "# create model structure\n",
        "from keras.models import Sequential\n",
        "emotion_model = Sequential()"
      ]
    },
    {
      "cell_type": "code",
      "execution_count": null,
      "metadata": {
        "id": "umLHJxASvLDy"
      },
      "outputs": [],
      "source": [
        "from keras.layers import Conv2D, MaxPooling2D, Dense, Dropout, Flatten\n",
        "emotion_model.add(Conv2D(32, kernel_size=(3, 3), activation='relu', input_shape=(48, 48, 1)))\n",
        "emotion_model.add(Conv2D(64, kernel_size=(3, 3), activation='relu'))\n",
        "emotion_model.add(MaxPooling2D(pool_size=(3, 3)))\n",
        "emotion_model.add(Dropout(0.25))"
      ]
    },
    {
      "cell_type": "code",
      "execution_count": null,
      "metadata": {
        "id": "cUurVCYivZQm"
      },
      "outputs": [],
      "source": [
        "emotion_model.add(Conv2D(128, kernel_size=(3, 3), activation='relu'))\n",
        "emotion_model.add(MaxPooling2D(pool_size=(3, 3)))\n",
        "emotion_model.add(Conv2D(128, kernel_size=(3, 3), activation='relu'))\n",
        "emotion_model.add(MaxPooling2D(pool_size=(2, 2)))\n",
        "emotion_model.add(Dropout(0.25))\n"
      ]
    },
    {
      "cell_type": "code",
      "execution_count": null,
      "metadata": {
        "id": "KpQdUH_uveFp"
      },
      "outputs": [],
      "source": [
        "emotion_model.add(Flatten())\n",
        "emotion_model.add(Dense(1024, activation='relu'))\n",
        "emotion_model.add(Dropout(0.5))\n",
        "emotion_model.add(Dense(7, activation='softmax'))"
      ]
    },
    {
      "cell_type": "code",
      "execution_count": null,
      "metadata": {
        "id": "8DZ0Fro7vk-t"
      },
      "outputs": [],
      "source": [
        "import cv2\n",
        "cv2.ocl.setUseOpenCL(False)"
      ]
    },
    {
      "cell_type": "code",
      "execution_count": null,
      "metadata": {
        "id": "IYPOYgMV0fPR"
      },
      "outputs": [],
      "source": [
        "from tensorflow.keras.optimizers import Adam"
      ]
    },
    {
      "cell_type": "code",
      "execution_count": null,
      "metadata": {
        "id": "p6PItMIIxG2M",
        "colab": {
          "base_uri": "https://localhost:8080/"
        },
        "outputId": "c1b5d9bd-8978-429f-92c1-b0a64853ea1c"
      },
      "outputs": [
        {
          "output_type": "stream",
          "name": "stderr",
          "text": [
            "/usr/local/lib/python3.7/dist-packages/keras/optimizer_v2/adam.py:105: UserWarning: The `lr` argument is deprecated, use `learning_rate` instead.\n",
            "  super(Adam, self).__init__(name, **kwargs)\n"
          ]
        }
      ],
      "source": [
        "emotion_model.compile(loss='categorical_crossentropy', optimizer=Adam(lr=0.001), metrics=['accuracy'])"
      ]
    },
    {
      "cell_type": "code",
      "execution_count": null,
      "metadata": {
        "colab": {
          "base_uri": "https://localhost:8080/"
        },
        "id": "PpKCdz3es-tK",
        "outputId": "61192726-4eda-4aff-cfab-1e2d89e1c5aa"
      },
      "outputs": [
        {
          "output_type": "stream",
          "name": "stderr",
          "text": [
            "/usr/local/lib/python3.7/dist-packages/ipykernel_launcher.py:7: UserWarning: `Model.fit_generator` is deprecated and will be removed in a future version. Please use `Model.fit`, which supports generators.\n",
            "  import sys\n"
          ]
        },
        {
          "output_type": "stream",
          "name": "stdout",
          "text": [
            "Epoch 1/30\n",
            "448/448 [==============================] - 5789s 13s/step - loss: 1.7860 - accuracy: 0.2607 - val_loss: 1.6938 - val_accuracy: 0.3051\n",
            "Epoch 2/30\n",
            "448/448 [==============================] - 318s 710ms/step - loss: 1.5227 - accuracy: 0.3969 - val_loss: 1.3549 - val_accuracy: 0.4782\n",
            "Epoch 3/30\n",
            "448/448 [==============================] - 316s 706ms/step - loss: 1.3432 - accuracy: 0.4818 - val_loss: 1.2548 - val_accuracy: 0.5152\n",
            "Epoch 4/30\n",
            "448/448 [==============================] - 316s 706ms/step - loss: 1.2654 - accuracy: 0.5166 - val_loss: 1.2185 - val_accuracy: 0.5261\n",
            "Epoch 5/30\n",
            "448/448 [==============================] - 317s 707ms/step - loss: 1.2151 - accuracy: 0.5332 - val_loss: 1.1835 - val_accuracy: 0.5361\n",
            "Epoch 6/30\n",
            "448/448 [==============================] - 321s 716ms/step - loss: 1.1693 - accuracy: 0.5538 - val_loss: 1.1419 - val_accuracy: 0.5642\n",
            "Epoch 7/30\n",
            "448/448 [==============================] - 316s 705ms/step - loss: 1.1286 - accuracy: 0.5725 - val_loss: 1.1413 - val_accuracy: 0.5605\n",
            "Epoch 8/30\n",
            "448/448 [==============================] - 315s 704ms/step - loss: 1.0993 - accuracy: 0.5862 - val_loss: 1.1034 - val_accuracy: 0.5780\n",
            "Epoch 9/30\n",
            "448/448 [==============================] - 315s 704ms/step - loss: 1.0772 - accuracy: 0.5915 - val_loss: 1.0996 - val_accuracy: 0.5792\n",
            "Epoch 10/30\n",
            "448/448 [==============================] - 316s 705ms/step - loss: 1.0469 - accuracy: 0.6045 - val_loss: 1.1056 - val_accuracy: 0.5799\n",
            "Epoch 11/30\n",
            "448/448 [==============================] - 320s 714ms/step - loss: 1.0201 - accuracy: 0.6156 - val_loss: 1.0914 - val_accuracy: 0.5854\n",
            "Epoch 12/30\n",
            "448/448 [==============================] - 314s 701ms/step - loss: 1.0021 - accuracy: 0.6215 - val_loss: 1.0908 - val_accuracy: 0.5882\n",
            "Epoch 13/30\n",
            "448/448 [==============================] - 308s 687ms/step - loss: 0.9862 - accuracy: 0.6287 - val_loss: 1.1173 - val_accuracy: 0.5818\n",
            "Epoch 14/30\n",
            "448/448 [==============================] - 310s 691ms/step - loss: 0.9646 - accuracy: 0.6357 - val_loss: 1.0950 - val_accuracy: 0.5887\n",
            "Epoch 15/30\n",
            "448/448 [==============================] - 309s 689ms/step - loss: 0.9525 - accuracy: 0.6426 - val_loss: 1.0826 - val_accuracy: 0.5931\n",
            "Epoch 16/30\n",
            "448/448 [==============================] - 308s 687ms/step - loss: 0.9359 - accuracy: 0.6471 - val_loss: 1.0822 - val_accuracy: 0.5919\n",
            "Epoch 17/30\n",
            "448/448 [==============================] - 309s 690ms/step - loss: 0.9056 - accuracy: 0.6592 - val_loss: 1.0924 - val_accuracy: 0.6004\n",
            "Epoch 18/30\n",
            "448/448 [==============================] - 308s 687ms/step - loss: 0.9003 - accuracy: 0.6659 - val_loss: 1.0878 - val_accuracy: 0.6032\n",
            "Epoch 19/30\n",
            "448/448 [==============================] - 308s 688ms/step - loss: 0.8840 - accuracy: 0.6674 - val_loss: 1.0892 - val_accuracy: 0.6006\n",
            "Epoch 20/30\n",
            "448/448 [==============================] - 308s 688ms/step - loss: 0.8741 - accuracy: 0.6730 - val_loss: 1.0792 - val_accuracy: 0.6010\n",
            "Epoch 21/30\n",
            "448/448 [==============================] - 311s 694ms/step - loss: 0.8564 - accuracy: 0.6798 - val_loss: 1.0902 - val_accuracy: 0.6049\n",
            "Epoch 22/30\n",
            "448/448 [==============================] - 312s 696ms/step - loss: 0.8462 - accuracy: 0.6847 - val_loss: 1.0899 - val_accuracy: 0.6025\n",
            "Epoch 23/30\n",
            "448/448 [==============================] - 312s 695ms/step - loss: 0.8339 - accuracy: 0.6874 - val_loss: 1.1382 - val_accuracy: 0.5901\n",
            "Epoch 24/30\n",
            "448/448 [==============================] - 312s 697ms/step - loss: 0.8221 - accuracy: 0.6943 - val_loss: 1.1078 - val_accuracy: 0.5988\n",
            "Epoch 25/30\n",
            "448/448 [==============================] - 311s 694ms/step - loss: 0.8106 - accuracy: 0.6960 - val_loss: 1.1029 - val_accuracy: 0.5986\n",
            "Epoch 26/30\n",
            "448/448 [==============================] - 312s 695ms/step - loss: 0.8063 - accuracy: 0.6978 - val_loss: 1.1127 - val_accuracy: 0.5946\n",
            "Epoch 27/30\n",
            "448/448 [==============================] - 310s 692ms/step - loss: 0.7847 - accuracy: 0.7061 - val_loss: 1.1188 - val_accuracy: 0.5935\n",
            "Epoch 28/30\n",
            "448/448 [==============================] - 310s 693ms/step - loss: 0.7752 - accuracy: 0.7108 - val_loss: 1.1291 - val_accuracy: 0.5986\n",
            "Epoch 29/30\n",
            "448/448 [==============================] - 311s 694ms/step - loss: 0.7608 - accuracy: 0.7146 - val_loss: 1.1261 - val_accuracy: 0.6010\n",
            "Epoch 30/30\n",
            "448/448 [==============================] - 316s 704ms/step - loss: 0.7603 - accuracy: 0.7184 - val_loss: 1.1402 - val_accuracy: 0.5996\n"
          ]
        }
      ],
      "source": [
        "# Train the neural network/model\n",
        "emotion_model_info = emotion_model.fit_generator(\n",
        "        train_generator,\n",
        "        steps_per_epoch=28709 // 64,\n",
        "        epochs=30,\n",
        "        validation_data=validation_generator,\n",
        "        validation_steps=7178 // 64)\n",
        " "
      ]
    },
    {
      "cell_type": "code",
      "execution_count": null,
      "metadata": {
        "id": "vVk6BQVkju9w",
        "colab": {
          "base_uri": "https://localhost:8080/"
        },
        "outputId": "fe357ed7-ed7e-449e-9a37-b4f777fc7da3"
      },
      "outputs": [
        {
          "output_type": "execute_result",
          "data": {
            "text/plain": [
              "dict_keys(['loss', 'accuracy', 'val_loss', 'val_accuracy'])"
            ]
          },
          "metadata": {},
          "execution_count": 19
        }
      ],
      "source": [
        "import json\n",
        "emotion_model_info.history.keys()"
      ]
    },
    {
      "cell_type": "code",
      "execution_count": null,
      "metadata": {
        "id": "UuEtfl6cljF5",
        "colab": {
          "base_uri": "https://localhost:8080/",
          "height": 295
        },
        "outputId": "03d86ce3-29b8-4105-8ce8-62907e8e5c06"
      },
      "outputs": [
        {
          "output_type": "display_data",
          "data": {
            "text/plain": [
              "<Figure size 432x288 with 1 Axes>"
            ],
            "image/png": "[encoded data removed]"
          },
          "metadata": {
            "needs_background": "light"
          }
        }
      ],
      "source": [
        "plt.plot(emotion_model_info.history['accuracy'])\n",
        "plt.plot(emotion_model_info.history['val_accuracy'])\n",
        "plt.title('model accuracy')\n",
        "plt.ylabel('accuracy')\n",
        "plt.xlabel('epoch')\n",
        "plt.legend(['train', 'test'], loc='upper left')\n",
        "plt.show()"
      ]
    },
    {
      "cell_type": "code",
      "execution_count": null,
      "metadata": {
        "id": "5EBclc-Elt8Y",
        "colab": {
          "base_uri": "https://localhost:8080/",
          "height": 295
        },
        "outputId": "408e5e1e-570c-41c2-f8b8-619cc7faf97f"
      },
      "outputs": [
        {
          "output_type": "display_data",
          "data": {
            "text/plain": [
              "<Figure size 432x288 with 1 Axes>"
            ],
            "image/png": "[encoded data removed]"
          },
          "metadata": {
            "needs_background": "light"
          }
        }
      ],
      "source": [
        "plt.plot(emotion_model_info.history['loss'])\n",
        "plt.plot(emotion_model_info.history['val_loss'])\n",
        "plt.title('Model Loss')\n",
        "plt.ylabel('loss')\n",
        "plt.xlabel('epoch')\n",
        "plt.legend(['train', 'test'], loc='upper left')\n",
        "plt.show()"
      ]
    }
  ],
  "metadata": {
    "colab": {
      "collapsed_sections": [],
      "provenance": []
    },
    "kernelspec": {
      "display_name": "Python 3",
      "name": "python3"
    },
    "language_info": {
      "name": "python"
    },
    "accelerator": "GPU",
    "gpuClass": "standard"
  },
  "nbformat": 4,
  "nbformat_minor": 0
}